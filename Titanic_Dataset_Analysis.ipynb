{
 "cells": [
  {
   "cell_type": "markdown",
   "id": "03363c59-3256-4c91-9b82-967dea726ab7",
   "metadata": {},
   "source": [
    "## Introduction:\n",
    "\r\n",
    "This study focuses on analysing the Titanic dataset, which contains details about passengers aboard the RMS Titanic, including their age, gender,       class, ticket fare, and whether they survived the tragic event.\n",
    "\n",
    " The dataset provides an opportunity to explore patterns and relationships among various factors and survival outcomes\n",
    "\n",
    "\n",
    "\r\n",
    "The goal of this report is to apply basic statistical methods and data analysis techniques to uncover meaningful insights from the dataseival.\r\n"
   ]
  },
  {
   "cell_type": "markdown",
   "id": "e7a10fdd-9f60-4eb4-a842-3350186902c3",
   "metadata": {},
   "source": [
    "### Specifically, the analysis will:\n",
    "\n",
    "1.\tSummarize the data using basic statistical metrics, such as mean, median, and standard deviation.\n",
    "\n",
    "2.\tVisualize key aspects of the dataset using charts like histograms, bar charts, and scatter plots to interpret trends and distributions.\n",
    "\n",
    "3.\tTest hypotheses related to survival differences across demographics, such as gender and class, using statistical tests like the Chi-Square test and T-tests.\n",
    "\n",
    "4.\tExplore regression analysis to understand how different features like age, fare, and class influence the likelihood of survival."
   ]
  },
  {
   "cell_type": "code",
   "execution_count": null,
   "id": "829e01a5-18b2-4381-826b-616b866b0883",
   "metadata": {},
   "outputs": [],
   "source": [
    "import numpy as np\n",
    "import pandas as pd\n",
    "import seaborn as sns\n",
    "import matplotlib.pyplot as plt\n",
    "from scipy import stats\n",
    "import statsmodels.api as sm\n",
    "from sklearn.linear_model import LinearRegression"
   ]
  },
  {
   "cell_type": "code",
   "execution_count": null,
   "id": "6ecc0bf5-c8bc-4ebc-954c-355904987533",
   "metadata": {},
   "outputs": [],
   "source": [
    "df = pd.read_csv(\"Titanic-Dataset.csv\")\n",
    "df.head()"
   ]
  },
  {
   "cell_type": "markdown",
   "id": "83830587-ffa7-4039-a2d4-c7f29ce55919",
   "metadata": {},
   "source": [
    "### Explanation:\n",
    "* The dataset contains 891 entries and 12 columns, with mixed data types (int64, float64, and object).\n",
    "\n",
    "* Columns such as Age, Cabin, and Embarked have missing values, which may require preprocessing."
   ]
  },
  {
   "cell_type": "code",
   "execution_count": null,
   "id": "c0d1d48c-cf58-4185-b9ba-475224495b54",
   "metadata": {},
   "outputs": [],
   "source": [
    "df.info()"
   ]
  },
  {
   "cell_type": "markdown",
   "id": "a261011a-7835-419d-9ec9-5ac487394f60",
   "metadata": {},
   "source": [
    "### Explanation:\n",
    "\n",
    "* Fare has a high range (0 to 512.33), suggesting potential outliers.\n",
    "\n",
    "* Age has a mean of ~29.7 years, but values extend from 0.42 to 80, indicating diversity in passenger age.\n",
    "\n",
    "* SibSp and Parch are primarily low, reflecting small family sizes."
   ]
  },
  {
   "cell_type": "code",
   "execution_count": null,
   "id": "91849c22-19eb-4405-8183-63c4b046db6c",
   "metadata": {},
   "outputs": [],
   "source": [
    "df.describe()"
   ]
  },
  {
   "cell_type": "markdown",
   "id": "4a2bb89a-8686-47c5-b1fc-57d099b03917",
   "metadata": {},
   "source": [
    "### Explanation:\n",
    "\n",
    "* Passenger ID is 446, aligning with the dataset's midpoint.\n",
    "\n",
    "* Survival rate (Survived) is ~38.4%, showing less than half of the passengers survived.\n",
    "\n",
    "* Average fare (Fare) is 32.20, indicating most tickets were moderately priced."
   ]
  },
  {
   "cell_type": "code",
   "execution_count": null,
   "id": "6d823228-4d89-4047-9137-c598bd01fdc5",
   "metadata": {},
   "outputs": [],
   "source": [
    "df.mean(numeric_only=True)"
   ]
  },
  {
   "cell_type": "markdown",
   "id": "d7feff1f-fbf6-47c0-8529-7caa050a3e83",
   "metadata": {},
   "source": [
    "### Explanation:\n",
    "* Median survival (Survived) is 0, as most passengers did not survive.\n",
    "\n",
    "* Median fare is 14.45, lower than the mean, suggesting a skewed fare distribution."
   ]
  },
  {
   "cell_type": "code",
   "execution_count": null,
   "id": "5b55366e-1af7-4273-8423-6d370bea3e6e",
   "metadata": {},
   "outputs": [],
   "source": [
    "df.median(numeric_only=True)"
   ]
  },
  {
   "cell_type": "markdown",
   "id": "dbe5ce50-432b-4eca-928a-299b8f30bc6e",
   "metadata": {},
   "source": [
    "### Explanation:\n",
    "* Mode of Survived is 0, confirming most passengers didn't survive.\n",
    "\n",
    "* The most common Pclass is 3, indicating most passengers traveled in third class."
   ]
  },
  {
   "cell_type": "code",
   "execution_count": null,
   "id": "01ac83b2-1e85-4c47-bfe6-d871ec5b74ae",
   "metadata": {},
   "outputs": [],
   "source": [
    "df.mode( numeric_only=True)"
   ]
  },
  {
   "cell_type": "markdown",
   "id": "35cc84d7-844a-4a8f-b968-670b0a230ee4",
   "metadata": {},
   "source": [
    "### Explanation:\n",
    "* High variance in Fare (2469.44) reflects substantial price differences among ticket classes.\n",
    "\n",
    "* Age variance (211.02) suggests a wide age range, requiring further investigation for outliers."
   ]
  },
  {
   "cell_type": "code",
   "execution_count": null,
   "id": "e74cb27d-cc2c-4956-b9d4-00e1d55fc41f",
   "metadata": {},
   "outputs": [],
   "source": [
    "df.var(numeric_only=True)"
   ]
  },
  {
   "cell_type": "markdown",
   "id": "bf13906c-7a86-413c-a719-2a7f21e12c32",
   "metadata": {},
   "source": [
    "### Explanation:\n",
    "* The standard deviation of Fare (49.69) supports the observation of wide variability in ticket prices.\n",
    "\n",
    "* Age standard deviation (14.53) indicates moderate spread around the mean age of ~29.7."
   ]
  },
  {
   "cell_type": "code",
   "execution_count": null,
   "id": "610ab400-03b9-43e4-b990-4e6542b8e4f7",
   "metadata": {},
   "outputs": [],
   "source": [
    "df.std(numeric_only=True)"
   ]
  },
  {
   "cell_type": "markdown",
   "id": "9c1bc060-dfc1-4a0a-940f-13bb2d3184fb",
   "metadata": {},
   "source": [
    "---\n",
    "---"
   ]
  },
  {
   "cell_type": "markdown",
   "id": "2d374cb9-09f7-49d5-a9d4-4d767a4de748",
   "metadata": {},
   "source": [
    "# Data visualization"
   ]
  },
  {
   "cell_type": "markdown",
   "id": "f1c32a03-3e62-44db-a64f-3cce79cd079d",
   "metadata": {},
   "source": [
    "---\n",
    "## Histograms\n",
    "---"
   ]
  },
  {
   "cell_type": "markdown",
   "id": "9d6a7752-8770-4792-b3e9-974cdac8491b",
   "metadata": {},
   "source": [
    "### Age Distribution (Histogram)\n",
    "*The histogram for the Age column shows:*\n",
    "\n",
    "- A peak in the 20–30 age range, indicating that most passengers were young adults.\n",
    "- A decline in the number of passengers as the age increases.\n",
    "- A few outliers in the older age range (e.g., 70–80 years).\n",
    "- The presence of a kde curve (density estimate) helps identify the underlying distribution, which is slightly right-skewed.\n",
    "- This distribution indicates that the Titanic had a younger population, possibly reflective of third-class passengers seeking new opportunities."
   ]
  },
  {
   "cell_type": "code",
   "execution_count": null,
   "id": "9c4d7596-4c27-4383-98ed-442f371e1dd4",
   "metadata": {},
   "outputs": [],
   "source": [
    "plt.style.use('dark_background')\n",
    "plt.figure(figsize=(8, 5))\n",
    "sns.histplot(df['Age'].dropna(), bins=20, kde=True, color='cyan')\n",
    "plt.title('Age Distribution')\n",
    "plt.xlabel('Age')\n",
    "plt.ylabel('Frequency')\n",
    "plt.savefig('images/age_distribution.png', dpi=300, bbox_inches='tight')\n",
    "plt.show()"
   ]
  },
  {
   "cell_type": "markdown",
   "id": "306ba2c7-1dfd-483a-9336-fcbefc8407a8",
   "metadata": {},
   "source": [
    "### Fare Distribution (Histogram)\n",
    "*The histogram for the Fare column shows:*\n",
    "\n",
    "- A high concentration of fares under $50, indicating that the majority of passengers paid lower fares (likely third-class tickets).\n",
    "\n",
    "- A long tail on the right, with a few passengers paying very high fares (e.g., over $200), indicating first-class luxury accommodations.\n",
    "- The distribution is heavily right-skewed due to these high fare outliers.\n",
    "- This suggests a significant disparity in ticket prices, likely corresponding to class differences."
   ]
  },
  {
   "cell_type": "code",
   "execution_count": null,
   "id": "4710dac4-708c-4945-b779-0cf8e5965d2a",
   "metadata": {},
   "outputs": [],
   "source": [
    "plt.style.use('dark_background')\n",
    "plt.figure(figsize=(8, 5))\n",
    "sns.histplot(df['Fare'], bins=20, kde=True, color='green')\n",
    "plt.title('Fare Distribution')\n",
    "plt.xlabel('Fare')\n",
    "plt.ylabel('Frequency')\n",
    "plt.savefig('images/fare_distribution.png', dpi=300, bbox_inches='tight')\n",
    "plt.show()"
   ]
  },
  {
   "cell_type": "markdown",
   "id": "19139938-ae8f-4579-af6e-c3538552a099",
   "metadata": {},
   "source": [
    "---\n",
    "## Bar Chart\n",
    "---"
   ]
  },
  {
   "cell_type": "markdown",
   "id": "4812c490-beca-4b35-83f7-b6809bf6e24d",
   "metadata": {},
   "source": [
    "## Gender Distribution (Bar Chart)\n",
    "*The bar chart for Sex shows:*\n",
    "\n",
    "- More males (around 65%) than females (around 35%) among passengers.\n",
    "- This imbalance is important when analyzing survival rates, as gender-based priorities (e.g., \"women and children first\") could influence survival outcomes."
   ]
  },
  {
   "cell_type": "code",
   "execution_count": null,
   "id": "507ddbeb-fc7a-4b3e-aa0f-831b7bf3f73b",
   "metadata": {},
   "outputs": [],
   "source": [
    "plt.style.use('dark_background')\n",
    "plt.figure(figsize=(8, 5))\n",
    "ax = sns.countplot(x='Sex', data=df, palette='pastel')\n",
    "for patch in ax.patches:\n",
    "    patch.set_alpha(0.8)\n",
    "plt.title('Gender Distribution')\n",
    "plt.xlabel('Gender')\n",
    "plt.ylabel('Count')\n",
    "plt.savefig('images/gender_distribution.png', dpi=300, bbox_inches='tight')\n",
    "plt.show()"
   ]
  },
  {
   "cell_type": "markdown",
   "id": "7442fd12-5899-4e70-8847-bcc171405d89",
   "metadata": {},
   "source": [
    "## Survival Distribution (Bar Chart)\n",
    "*The bar chart for Survived shows:*\n",
    "\n",
    "- A higher number of passengers did not survive (0) compared to those who survived (1).\n",
    "- This reflects the overall low survival rate of the Titanic disaster, where only about 38% of passengers survived."
   ]
  },
  {
   "cell_type": "code",
   "execution_count": null,
   "id": "f0e97e11-457a-4223-a928-c0f594c98dc7",
   "metadata": {},
   "outputs": [],
   "source": [
    "plt.figure(figsize=(8, 5))\n",
    "ax = sns.countplot(x='Survived', data=df, palette='Set2')\n",
    "for patch in ax.patches:\n",
    "    patch.set_alpha(0.7)\n",
    "plt.title('Survival Distribution')\n",
    "plt.xlabel('Survived (0 = No, 1 = Yes)')\n",
    "plt.ylabel('Count')\n",
    "plt.savefig('images/survival_distribution.png', dpi=300, bbox_inches='tight')\n",
    "plt.show()"
   ]
  },
  {
   "cell_type": "markdown",
   "id": "846ea33e-bbdb-48d5-b687-4a1148947f1b",
   "metadata": {},
   "source": [
    "---\n",
    "## Scatter Plot\n",
    "---"
   ]
  },
  {
   "cell_type": "markdown",
   "id": "88fe179e-f21f-4181-ac2b-412d76987728",
   "metadata": {},
   "source": [
    "## Age vs Fare (Scatter Plot)\n",
    "*The scatter plot of Age vs. Fare with survival status (Survived):*\n",
    "\n",
    "- Survivors (red points) are more common among passengers who paid higher fares (likely first-class passengers) and younger age groups (possibly children or families in priority groups).\n",
    "- Non-survivors (blue points) dominate in the lower fare range and are more evenly distributed across age groups.\n",
    "- Passengers with very high fares (outliers) were more likely to survive, which might indicate better access to lifeboats for first-class passengers."
   ]
  },
  {
   "cell_type": "code",
   "execution_count": null,
   "id": "418235a6-4339-408d-a881-7a4aaa90de36",
   "metadata": {},
   "outputs": [],
   "source": [
    "plt.figure(figsize=(8, 5))\n",
    "sns.scatterplot(x='Age', y='Fare', hue='Survived', data=df, palette={0: '#FF6347', 1: '#4682B4'}, alpha=0.7)\n",
    "plt.title('Age vs Fare (Colored by Survival)')\n",
    "plt.xlabel('Age')\n",
    "plt.ylabel('Fare')\n",
    "plt.legend(title='Survived')\n",
    "plt.savefig('images/age_vs_fare_survival.png', dpi=300, bbox_inches='tight')\n",
    "plt.show()"
   ]
  },
  {
   "cell_type": "markdown",
   "id": "67e5a5d9-1800-485b-b092-f911fa9ce1aa",
   "metadata": {},
   "source": [
    "---\n",
    "---"
   ]
  },
  {
   "cell_type": "markdown",
   "id": "721270f6-ed36-489f-b5e0-aa92ce257a87",
   "metadata": {},
   "source": [
    "# Hypothesis Test applications"
   ]
  },
  {
   "cell_type": "markdown",
   "id": "feb89ae5-89af-42ca-8de6-99c8437fee21",
   "metadata": {},
   "source": [
    "---\n",
    "## Test of Difference Between Proportions\n",
    "---"
   ]
  },
  {
   "cell_type": "markdown",
   "id": "8af0a81f-9c51-4d98-81c2-111d9ade75cd",
   "metadata": {},
   "source": [
    "## Proportions Z-Test (Survival by Gender)\n",
    "- Z-Statistic: 16.22\n",
    "- P-Value: 3.7117477701134797e-59\n",
    "#### Explanation:\n",
    "There is a significant difference in survival rates between males and females. \n",
    "\n",
    "Women had a significantly higher survival rate, likely due to the \"women and children first\" policy during the evacuation."
   ]
  },
  {
   "cell_type": "code",
   "execution_count": null,
   "id": "58b895b5-7198-41c8-a52c-ebde6f31c54d",
   "metadata": {},
   "outputs": [],
   "source": [
    "from statsmodels.stats.proportion import proportions_ztest"
   ]
  },
  {
   "cell_type": "code",
   "execution_count": null,
   "id": "b644c95c-ad54-4941-a0c4-93737b495a71",
   "metadata": {},
   "outputs": [],
   "source": [
    "survived_female = df[df['Sex'] == 'female']['Survived'].sum()\n",
    "survived_female"
   ]
  },
  {
   "cell_type": "code",
   "execution_count": null,
   "id": "31d4b92a-96e8-4f4c-a01a-f94cbd9f371a",
   "metadata": {},
   "outputs": [],
   "source": [
    "total_female = df[df['Sex'] == 'female'].shape[0]\n",
    "total_female"
   ]
  },
  {
   "cell_type": "code",
   "execution_count": null,
   "id": "df165eb3-583b-44c6-aab0-08bfaca1d71c",
   "metadata": {},
   "outputs": [],
   "source": [
    "survived_male = df[df['Sex'] == 'male']['Survived'].sum()\n",
    "survived_male"
   ]
  },
  {
   "cell_type": "code",
   "execution_count": null,
   "id": "e5cd2c8f-3dad-4582-9fa6-49bc78c9d809",
   "metadata": {},
   "outputs": [],
   "source": [
    "total_male = df[df['Sex'] == 'male'].shape[0]\n",
    "total_male"
   ]
  },
  {
   "cell_type": "code",
   "execution_count": null,
   "id": "9b0f265e-71aa-467d-94f4-a230e0a21d63",
   "metadata": {},
   "outputs": [],
   "source": [
    "count = [survived_female, survived_male]\n",
    "count"
   ]
  },
  {
   "cell_type": "code",
   "execution_count": null,
   "id": "20e4c084-2909-42f4-ad5c-718294167798",
   "metadata": {},
   "outputs": [],
   "source": [
    "nobs = [total_female, total_male]\n",
    "nobs"
   ]
  },
  {
   "cell_type": "code",
   "execution_count": null,
   "id": "50ce48d5-049d-4976-9c7e-522df24a16ff",
   "metadata": {},
   "outputs": [],
   "source": [
    "stat, p_value = proportions_ztest(count, nobs)"
   ]
  },
  {
   "cell_type": "code",
   "execution_count": null,
   "id": "b30a5580-824a-4835-bed1-b48e9f603c4d",
   "metadata": {},
   "outputs": [],
   "source": [
    "print(f\"Z-Statistic: {stat:.2f}, P-Value: {p_value}\")"
   ]
  },
  {
   "cell_type": "code",
   "execution_count": null,
   "id": "44ba476e-b788-49a6-9862-35b962ddad4c",
   "metadata": {},
   "outputs": [],
   "source": [
    "if p_value < 0.05:\n",
    "    print(\"Significant difference in survival rates between males and females.\")\n",
    "else:\n",
    "    print(\"No significant difference in survival rates between males and females.\")"
   ]
  },
  {
   "cell_type": "markdown",
   "id": "44505e10-4dcf-44f4-ad1d-41af3558ad56",
   "metadata": {},
   "source": [
    "---\n",
    "## Independent Two-Samples T-Test\n",
    "---"
   ]
  },
  {
   "cell_type": "markdown",
   "id": "42aef500-7417-4211-aef4-04ba9ffcca6d",
   "metadata": {},
   "source": [
    "## T-Test (Fare by Survival)\n",
    "- T-Statistic: 6.84\n",
    "- P-Value: 2.6993323503141236e-11\n",
    "#### Explanation:\n",
    "There is a significant difference in the average fares paid by survivors and non-survivors. \n",
    "\n",
    "Survivors tended to pay higher fares, indicating that passengers in higher classes had a better chance of survival."
   ]
  },
  {
   "cell_type": "code",
   "execution_count": null,
   "id": "da729ec0-18e6-4857-ad95-7914e943803c",
   "metadata": {},
   "outputs": [],
   "source": [
    "from scipy.stats import ttest_ind"
   ]
  },
  {
   "cell_type": "code",
   "execution_count": null,
   "id": "6c755587-221e-40d4-9ef8-87c019c940be",
   "metadata": {},
   "outputs": [],
   "source": [
    "# Fare data for survivors\n",
    "fare_survived = df[df['Survived'] == 1]['Fare']"
   ]
  },
  {
   "cell_type": "code",
   "execution_count": null,
   "id": "746837ec-9971-4176-87a7-d7daa9fd3090",
   "metadata": {},
   "outputs": [],
   "source": [
    "# Fare data for non-survivors\n",
    "fare_not_survived = df[df['Survived'] == 0]['Fare']"
   ]
  },
  {
   "cell_type": "code",
   "execution_count": null,
   "id": "ea1a65f9-78d9-46dc-8c79-78fcbb387f6c",
   "metadata": {},
   "outputs": [],
   "source": [
    "# T-Test\n",
    "t_stat, p_value = ttest_ind(fare_survived, fare_not_survived, equal_var=False)"
   ]
  },
  {
   "cell_type": "code",
   "execution_count": null,
   "id": "02280777-7220-43cb-9b08-ce0f48dfcfa7",
   "metadata": {},
   "outputs": [],
   "source": [
    "print(f\"T-Statistic: {t_stat:.2f}, P-Value: {p_value}\")"
   ]
  },
  {
   "cell_type": "code",
   "execution_count": null,
   "id": "4c6a71f5-7911-4b90-b139-2c7eec620238",
   "metadata": {},
   "outputs": [],
   "source": [
    "# Interpretation\n",
    "if p_value < 0.05:\n",
    "    print(\"Significant difference in average fares between survivors and non-survivors.\")\n",
    "else:\n",
    "    print(\"No significant difference in average fares between survivors and non-survivors.\")"
   ]
  },
  {
   "cell_type": "markdown",
   "id": "de81c953-b473-47a9-98fd-793166f8e02a",
   "metadata": {},
   "source": [
    "---\n",
    "## Chi-Square Independence Test\n",
    "---"
   ]
  },
  {
   "cell_type": "markdown",
   "id": "a3cf3fbd-9e92-46aa-924f-eaab639a7bed",
   "metadata": {},
   "source": [
    "## Chi-Square Test (Survival by Class)\n",
    "- Chi-Square Statistic: 102.89\n",
    "- P-Value: 4.549251711298793e-23\n",
    "#### Explanation:\n",
    "Survival is significantly dependent on passenger class. \n",
    "\n",
    "First-class passengers had higher survival rates compared to second- and third-class passengers.\n"
   ]
  },
  {
   "cell_type": "code",
   "execution_count": null,
   "id": "75895acb-2bd2-452a-9b76-5c1fd67d1a23",
   "metadata": {},
   "outputs": [],
   "source": [
    "from scipy.stats import chi2_contingency"
   ]
  },
  {
   "cell_type": "code",
   "execution_count": null,
   "id": "f622c3cb-632f-45ee-8097-4f1136a67bb7",
   "metadata": {},
   "outputs": [],
   "source": [
    "# Contingency table for Pclass and Survived\n",
    "contingency_table = pd.crosstab(df['Pclass'], df['Survived'])"
   ]
  },
  {
   "cell_type": "code",
   "execution_count": null,
   "id": "4348b59c-c733-4dff-86b0-1018517ea96c",
   "metadata": {},
   "outputs": [],
   "source": [
    "# Chi-Square Test\n",
    "chi2, p, dof, expected = chi2_contingency(contingency_table)"
   ]
  },
  {
   "cell_type": "code",
   "execution_count": null,
   "id": "dea30fc4-11fb-47f5-b1d9-125f84331216",
   "metadata": {},
   "outputs": [],
   "source": [
    "print(f\"Chi-Square Statistic: {chi2:.2f}, P-Value: {p}\")"
   ]
  },
  {
   "cell_type": "code",
   "execution_count": null,
   "id": "8d494ea3-8a5f-47de-9581-0b4648d134cd",
   "metadata": {},
   "outputs": [],
   "source": [
    "# Interpretation\n",
    "if p < 0.05:\n",
    "    print(\"Survival is significantly dependent on passenger class.\")\n",
    "else:\n",
    "    print(\"No significant dependency between survival and passenger class.\")"
   ]
  },
  {
   "cell_type": "markdown",
   "id": "6b06e7d6-76c4-47a9-b75f-e1f0a702e887",
   "metadata": {},
   "source": [
    "---\n",
    "## Mann-Whitney U Test\n",
    "---"
   ]
  },
  {
   "cell_type": "markdown",
   "id": "13f423f0-c43e-4b02-a7bd-e225616e4009",
   "metadata": {},
   "source": [
    "## Mann-Whitney U Test (Age by Survival)\n",
    "- U-Statistic: 57682.0\n",
    "- P-Value: 0.16\n",
    "#### Explanation:\n",
    "There is no significant difference in the age distributions of survivors and non-survivors. \n",
    "\n",
    "Age alone does not appear to play a major role in determining survival likelihood."
   ]
  },
  {
   "cell_type": "code",
   "execution_count": null,
   "id": "252c77b1-6297-4b67-bb91-36d185adb5fc",
   "metadata": {},
   "outputs": [],
   "source": [
    "from scipy.stats import mannwhitneyu"
   ]
  },
  {
   "cell_type": "code",
   "execution_count": null,
   "id": "5d05e67c-6f8e-4cf2-95cb-3ee97ccf0a0e",
   "metadata": {},
   "outputs": [],
   "source": [
    "age_survived = df[df['Survived'] == 1]['Age'].dropna()"
   ]
  },
  {
   "cell_type": "code",
   "execution_count": null,
   "id": "75bb9ab5-ecef-4e3a-9b12-4d071b15365b",
   "metadata": {},
   "outputs": [],
   "source": [
    "age_not_survived = df[df['Survived'] == 0]['Age'].dropna()"
   ]
  },
  {
   "cell_type": "code",
   "execution_count": null,
   "id": "fe58dd15-57bc-480b-8105-9d40d1b11a02",
   "metadata": {},
   "outputs": [],
   "source": [
    "u_stat, p_value = mannwhitneyu(age_survived, age_not_survived)"
   ]
  },
  {
   "cell_type": "code",
   "execution_count": null,
   "id": "44c3034f-750c-46f5-969f-3ec51d688c4c",
   "metadata": {},
   "outputs": [],
   "source": [
    "print(f\"U-Statistic: {u_stat:.2f}, P-Value: {p_value:.4f}\")"
   ]
  },
  {
   "cell_type": "code",
   "execution_count": null,
   "id": "cb81fe2e-ef11-48a2-b217-afe80c1c72a7",
   "metadata": {},
   "outputs": [],
   "source": [
    "if p_value < 0.05:\n",
    "    print(\"Significant difference in age distribution between survivors and non-survivors.\")\n",
    "else:\n",
    "    print(\"No significant difference in age distribution between survivors and non-survivors.\")"
   ]
  },
  {
   "cell_type": "markdown",
   "id": "bded6463-451f-4041-b019-66ba4ba91071",
   "metadata": {},
   "source": [
    "---\n",
    "## ANOVA (Analysis of Variance)\n",
    "---"
   ]
  },
  {
   "cell_type": "markdown",
   "id": "f6811683-6f26-4616-8916-c305520d33c7",
   "metadata": {},
   "source": [
    "## ANOVA (Fare by Class)\n",
    "- F-Statistic: 242.34\n",
    "- P-Value: 1.0313763209141171e-84\n",
    "#### Explanation:\n",
    "There is a significant difference in mean fares across passenger classes. \n",
    "\n",
    "First-class passengers paid significantly higher fares compared to second- and third-class passengers, reflecting socioeconomic differences."
   ]
  },
  {
   "cell_type": "code",
   "execution_count": null,
   "id": "e313fe7a-2a18-4f4c-8a2e-422c60fe4532",
   "metadata": {},
   "outputs": [],
   "source": [
    "from scipy.stats import f_oneway"
   ]
  },
  {
   "cell_type": "code",
   "execution_count": null,
   "id": "04446f12-3d56-47ac-9ead-83a8aa5671b7",
   "metadata": {},
   "outputs": [],
   "source": [
    "fare_class_1 = df[df['Pclass'] == 1]['Fare']\n",
    "fare_class_2 = df[df['Pclass'] == 2]['Fare']\n",
    "fare_class_3 = df[df['Pclass'] == 3]['Fare']"
   ]
  },
  {
   "cell_type": "code",
   "execution_count": null,
   "id": "95c99299-e699-4a33-852b-adf0abac5d66",
   "metadata": {},
   "outputs": [],
   "source": [
    "f_stat, p_value = f_oneway(fare_class_1, fare_class_2, fare_class_3)"
   ]
  },
  {
   "cell_type": "code",
   "execution_count": null,
   "id": "9c9aa769-3d44-4076-a3fa-15da275847e7",
   "metadata": {},
   "outputs": [],
   "source": [
    "print(f\"F-Statistic: {f_stat:.2f}, P-Value: {p_value:}\")"
   ]
  },
  {
   "cell_type": "code",
   "execution_count": null,
   "id": "03ad3c48-ae60-4ec8-bf15-5eab44900df9",
   "metadata": {},
   "outputs": [],
   "source": [
    "if p_value < 0.05:\n",
    "    print(\"Significant difference in mean fares across passenger classes.\")\n",
    "else:\n",
    "    print(\"No significant difference in mean fares across passenger classes.\")"
   ]
  },
  {
   "cell_type": "markdown",
   "id": "f3885a31-3357-4bab-a52d-d7a0e10c272f",
   "metadata": {},
   "source": [
    "## Summary:\n",
    "- **Gender and Class:** \n",
    "\n",
    "    *These factors had a strong influence on survival, with females and first-class passengers having higher survival rates.*\n",
    "- **Fares:** \n",
    "\n",
    "    *Higher fares were associated with increased survival, linking economic privilege to better outcomes.*\n",
    "- **Age:** \n",
    "\n",
    "    *Age did not significantly affect survival in this dataset.*"
   ]
  },
  {
   "cell_type": "markdown",
   "id": "8402cf86-22de-4af4-bced-217a21928b1b",
   "metadata": {},
   "source": [
    "---\n",
    "---"
   ]
  },
  {
   "cell_type": "markdown",
   "id": "b38e9b42-b6bb-4e56-8bec-75c956fff93e",
   "metadata": {},
   "source": [
    "# Regression analysis"
   ]
  },
  {
   "cell_type": "markdown",
   "id": "2df544ce-2120-4975-9f43-3d616146f8cc",
   "metadata": {},
   "source": [
    "---\n",
    "## Linear Regression\n",
    "---"
   ]
  },
  {
   "cell_type": "markdown",
   "id": "3eb494b3-3243-4a81-a2e0-a2c2d3eedc73",
   "metadata": {},
   "source": [
    "### Linear Regression:\n",
    "The linear regression model explains approximately 32.1% of the variance in passenger fares. \n",
    "\n",
    "- **Pclass:**\n",
    "\n",
    "    *For each unit increase in passenger class, the fare is predicted to decrease by approximately $37.92, holding age constant. This is statistically significant (p < 0.001).*\n",
    "\n",
    "- **Age:**\n",
    "\n",
    "    *For each year increase in age, the fare is predicted to decrease by approximately $0.46, holding passenger class constant. This is also statistically significant (p < 0.001).*\n",
    "\n",
    "- The model's overall fit is statistically significant (F-statistic = 167.9, p < 0.001). However, the residuals exhibit non-normality, as indicated by the Omnibus and Jarque-Bera tests.\n",
    "\n",
    "- This analysis suggests that both passenger class and age are significant factors in determining passenger fares."
   ]
  },
  {
   "cell_type": "code",
   "execution_count": null,
   "id": "a137018c-974b-4d61-8239-7308f9068485",
   "metadata": {},
   "outputs": [],
   "source": [
    "import statsmodels.api as sm"
   ]
  },
  {
   "cell_type": "code",
   "execution_count": null,
   "id": "c8eccae8-85f0-41c3-b3ff-d9b6fde7ecf8",
   "metadata": {},
   "outputs": [],
   "source": [
    "df = df.dropna(subset=['Age', 'Fare', 'Pclass'])"
   ]
  },
  {
   "cell_type": "code",
   "execution_count": null,
   "id": "22135a28-2db5-485f-a26b-7601d0c1c582",
   "metadata": {},
   "outputs": [],
   "source": [
    "X = df[['Pclass', 'Age']]"
   ]
  },
  {
   "cell_type": "code",
   "execution_count": null,
   "id": "a87d3c39-9a85-45c9-8f15-accf7d1397f2",
   "metadata": {},
   "outputs": [],
   "source": [
    "X = sm.add_constant(X)"
   ]
  },
  {
   "cell_type": "code",
   "execution_count": null,
   "id": "c582c8a7-05c2-4f93-8d67-0734432cd156",
   "metadata": {},
   "outputs": [],
   "source": [
    "y = df['Fare']"
   ]
  },
  {
   "cell_type": "code",
   "execution_count": null,
   "id": "a8e7327c-5e6f-4fc6-a0a5-d47264c322f6",
   "metadata": {},
   "outputs": [],
   "source": [
    "model = sm.OLS(y, X).fit()"
   ]
  },
  {
   "cell_type": "code",
   "execution_count": null,
   "id": "fd3b1a04-ceba-4277-b28d-7739c4ac2b8f",
   "metadata": {},
   "outputs": [],
   "source": [
    "print(model.summary())"
   ]
  },
  {
   "cell_type": "markdown",
   "id": "9fa06075-ae66-410f-971a-ee0898e2fdd1",
   "metadata": {},
   "source": [
    "---\n",
    "## Logistic Regression\n",
    "---"
   ]
  },
  {
   "cell_type": "markdown",
   "id": "190b8949-edf1-4460-bc94-7e4a72e703d4",
   "metadata": {},
   "source": [
    "The logistic regression model achieved an accuracy of 76.3% on the test set. This indicates that the model can correctly classify passenger survival in a significant portion of cases.\r\n",
    "\r\n",
    "The classification report provides a more granular view of the model's performance for each class (survived, died). Precision tells us the proportion of predicted positives that were actually positive, while recall tells us the proportion of actual positives that were predicted positive. F1-score is a harmonic mean of precision and recall, balancing both metrics.\r\n",
    "\r\n",
    "Based on the precision, recall, and F1-score values, we can observe that the model performs slightly better in predicting survivors (class 0) compared to deaths (class 1).\r\n",
    "\r\n",
    "**Note:** It's important to consider additional factors like the cost of misclassification depending on the specific application. For instance, if failing to predict a passenger's survival has more severe consequences, the model's performance on class 1 (died) might be of greater concern."
   ]
  },
  {
   "cell_type": "code",
   "execution_count": null,
   "id": "81392734-b9ba-4d1f-86f7-94a28e946ec5",
   "metadata": {},
   "outputs": [],
   "source": [
    "from sklearn.linear_model import LogisticRegression\n",
    "from sklearn.model_selection import train_test_split\n",
    "from sklearn.metrics import classification_report, accuracy_score"
   ]
  },
  {
   "cell_type": "code",
   "execution_count": null,
   "id": "3c5daba9-8e74-4223-b039-2d014f2c0b6c",
   "metadata": {},
   "outputs": [],
   "source": [
    "df['Sex'] = df['Sex'].map({'male': 0, 'female': 1})"
   ]
  },
  {
   "cell_type": "code",
   "execution_count": null,
   "id": "ac8e29f8-dd8d-4807-b9cc-f17c6cb7ca51",
   "metadata": {},
   "outputs": [],
   "source": [
    "X = df[['Pclass', 'Age', 'Sex']].dropna()"
   ]
  },
  {
   "cell_type": "code",
   "execution_count": null,
   "id": "c452ab50-a77a-43e3-9b28-76f18f53c7ef",
   "metadata": {},
   "outputs": [],
   "source": [
    "y = df.loc[X.index, 'Survived']"
   ]
  },
  {
   "cell_type": "code",
   "execution_count": null,
   "id": "9ad453bb-69d1-4e06-b7cb-88adda17b790",
   "metadata": {},
   "outputs": [],
   "source": [
    "X_train, X_test, y_train, y_test = train_test_split(X, y, test_size=0.3, random_state=42)"
   ]
  },
  {
   "cell_type": "code",
   "execution_count": null,
   "id": "530dc6c2-0a3b-42c4-94ce-4fabdd476125",
   "metadata": {},
   "outputs": [],
   "source": [
    "log_reg = LogisticRegression()"
   ]
  },
  {
   "cell_type": "code",
   "execution_count": null,
   "id": "81867886-d544-4620-a953-37acae4f340e",
   "metadata": {},
   "outputs": [],
   "source": [
    "log_reg.fit(X_train, y_train)"
   ]
  },
  {
   "cell_type": "code",
   "execution_count": null,
   "id": "189c1754-0881-4544-8400-f0e75ac35a33",
   "metadata": {},
   "outputs": [],
   "source": [
    "y_pred = log_reg.predict(X_test)"
   ]
  },
  {
   "cell_type": "code",
   "execution_count": null,
   "id": "b8c9cd23-d350-4d04-921a-6ea8a7439f49",
   "metadata": {},
   "outputs": [],
   "source": [
    "print(\"Accuracy:\", accuracy_score(y_test, y_pred))"
   ]
  },
  {
   "cell_type": "code",
   "execution_count": null,
   "id": "354376ff-8147-4ae5-b17f-c7320da1270e",
   "metadata": {},
   "outputs": [],
   "source": [
    "print(\"\\nClassification Report:\\n\", classification_report(y_test, y_pred))"
   ]
  },
  {
   "cell_type": "markdown",
   "id": "32b7a497-cd81-49c0-a4ed-883bcc4759c4",
   "metadata": {},
   "source": [
    "---\n",
    "## Multiple Regression (with Interaction)\n",
    "---"
   ]
  },
  {
   "cell_type": "markdown",
   "id": "594dd0a8-9f27-43a0-bb4e-498a82c83624",
   "metadata": {},
   "source": [
    "The logistic regression model with interaction terms for Pclass and Sex shows a significant association with passenger survival (LLR p-value < 0.001). The model explains approximately 35.31% of the variance in survival outcomes.\r\n",
    "\r\n",
    "* **Sex:** Being male was significantly associated with lower odds of survival compared to females (odds ratio: exp(-6.1155) ≈ 0.002).\r\n",
    "* **Pclass:** Higher passenger class (Pclass) was generally associated with higher odds of survival.\r\n",
    "* **Interaction (Pclass:Sex[T.male]):** The effect of Pclass on survival differed between males and females. The decrease in survival odds associated with higher Pclass was less pronounced for males compared to females.\r\n",
    "\r\n",
    "**Note:**\r\n",
    "\r\n",
    "* This interpretation focuses on the log-odds. To interpret the effects in terms of odds or probabilities, you would need to exponentiate the coefficients.\r\n",
    "* The interaction term highlights the importance of considering the joint effects of Pclass and Sex on survival.\r\n",
    "* Further analysis, such as plotting the predicted probabilities for different combinations of Pclass and Sex, can provide a more visual and intuitive understanding of the model's predictions.\r\n",
    "\r\n",
    "I hope this comprehensive interpretation of your multiple logistic regression model with interaction is helpful! is helpful!"
   ]
  },
  {
   "cell_type": "code",
   "execution_count": null,
   "id": "c374aec3-c6c4-40a1-b70c-b244529375f7",
   "metadata": {},
   "outputs": [],
   "source": [
    "from patsy import dmatrices"
   ]
  },
  {
   "cell_type": "code",
   "execution_count": null,
   "id": "b9b43e27-d7e6-4b89-92cc-0a8a1fe8eac0",
   "metadata": {},
   "outputs": [],
   "source": [
    "formula = \"Survived ~ Pclass + Age + Sex + Pclass:Sex\""
   ]
  },
  {
   "cell_type": "code",
   "execution_count": null,
   "id": "96a46321-b28d-4fb6-85e1-ad9ec2a61f62",
   "metadata": {},
   "outputs": [],
   "source": [
    "y, X = dmatrices(formula, df, return_type='dataframe')"
   ]
  },
  {
   "cell_type": "code",
   "execution_count": null,
   "id": "6aac4e4c-3cf6-44fa-a68a-5528cb7f715b",
   "metadata": {},
   "outputs": [],
   "source": [
    "logit_model = sm.Logit(y, X).fit()"
   ]
  },
  {
   "cell_type": "code",
   "execution_count": null,
   "id": "b52a89ca-1193-4a84-a218-ebb54684bec0",
   "metadata": {},
   "outputs": [],
   "source": [
    "print(logit_model.summary())"
   ]
  },
  {
   "cell_type": "markdown",
   "id": "512def24-7824-46d7-a7ab-3dded0fea18a",
   "metadata": {},
   "source": [
    "---\n",
    "## Polynomial Regression\n",
    "---"
   ]
  },
  {
   "cell_type": "markdown",
   "id": "7a2e517c-096f-4d24-9677-42d48e178ae6",
   "metadata": {},
   "source": [
    "## Polynomial Regression\r\n",
    "\r\n",
    "### Key Metrics:\r\n",
    "- **Coefficients**: These represent the weights of the polynomial terms (e.g., `Age` and `Age^2`). A positive coefficient for `Age^2` suggests a quadratic relationship between age and fare.\r\n",
    "- **Intercept**: This is the predicted fare when age is 0.\r\n",
    "- The polynomial regression allows for a non-linear relationship between age and fare, which might fit the data better than a simple linear model."
   ]
  },
  {
   "cell_type": "code",
   "execution_count": null,
   "id": "14998aad-6130-458d-9169-349de018b1d7",
   "metadata": {},
   "outputs": [],
   "source": [
    "from sklearn.preprocessing import PolynomialFeatures\n",
    "from sklearn.linear_model import LinearRegression"
   ]
  },
  {
   "cell_type": "code",
   "execution_count": null,
   "id": "a6dba245-8824-4c5d-9252-49f4da6e2aeb",
   "metadata": {},
   "outputs": [],
   "source": [
    "X = df[['Age']].dropna()"
   ]
  },
  {
   "cell_type": "code",
   "execution_count": null,
   "id": "80627d56-96d7-4855-b1d4-149d9b40745c",
   "metadata": {},
   "outputs": [],
   "source": [
    "y = df.loc[X.index, 'Fare']"
   ]
  },
  {
   "cell_type": "code",
   "execution_count": null,
   "id": "1dcc9eb6-5b7d-414a-a7b9-289aa47e8705",
   "metadata": {},
   "outputs": [],
   "source": [
    "poly = PolynomialFeatures(degree=2)"
   ]
  },
  {
   "cell_type": "code",
   "execution_count": null,
   "id": "8e1fb49a-bd22-49ad-bc32-ec8bc4e0e388",
   "metadata": {},
   "outputs": [],
   "source": [
    "X_poly = poly.fit_transform(X)"
   ]
  },
  {
   "cell_type": "code",
   "execution_count": null,
   "id": "636ba118-741c-4179-ae8f-865d0e0986e3",
   "metadata": {},
   "outputs": [],
   "source": [
    "poly_reg = LinearRegression()"
   ]
  },
  {
   "cell_type": "code",
   "execution_count": null,
   "id": "36dfd845-6d18-40cf-9525-df16eed8145b",
   "metadata": {},
   "outputs": [],
   "source": [
    "poly_reg.fit(X_poly, y)"
   ]
  },
  {
   "cell_type": "code",
   "execution_count": null,
   "id": "28e5fbb9-1930-4394-8492-933399d33d77",
   "metadata": {},
   "outputs": [],
   "source": [
    "print(\"Coefficients:\", poly_reg.coef_)\n",
    "print(\"Intercept:\", poly_reg.intercept_)"
   ]
  },
  {
   "cell_type": "markdown",
   "id": "fa5fde8e-c70e-4012-af4d-9467f40bcd84",
   "metadata": {},
   "source": [
    "---\n",
    "## Ridge Regression\n",
    "---"
   ]
  },
  {
   "cell_type": "markdown",
   "id": "6a11a78f-8643-479d-b961-b1781e97b874",
   "metadata": {},
   "source": [
    "- **Ridge Regression**:\r\n",
    "  - Ridge regression shrinks the coefficients of less important predictors but does not set them to zero. It is useful for reducing overfitting.\r\n",
    "  - The coefficients indicate the relative importance of each predictor."
   ]
  },
  {
   "cell_type": "code",
   "execution_count": null,
   "id": "c076d3e2-28e7-4b32-9f8c-d16e829b4d28",
   "metadata": {},
   "outputs": [],
   "source": [
    "from sklearn.linear_model import Ridge, Lasso"
   ]
  },
  {
   "cell_type": "code",
   "execution_count": null,
   "id": "81866f4e-c724-42a8-a53b-ed583b79c666",
   "metadata": {},
   "outputs": [],
   "source": [
    "ridge = Ridge(alpha=1.0)"
   ]
  },
  {
   "cell_type": "code",
   "execution_count": null,
   "id": "66c6596d-4482-49e3-8415-ac737f3882f7",
   "metadata": {},
   "outputs": [],
   "source": [
    "ridge.fit(X_train, y_train)"
   ]
  },
  {
   "cell_type": "code",
   "execution_count": null,
   "id": "6f8caa13-caf8-4738-a369-9ce8b8ecf1c7",
   "metadata": {},
   "outputs": [],
   "source": [
    "print(\"Ridge Coefficients:\", ridge.coef_)"
   ]
  },
  {
   "cell_type": "markdown",
   "id": "4ba0fff4-dd26-4338-adf9-f1c9099ce8d8",
   "metadata": {},
   "source": [
    "---\n",
    "## Lasso Regression\n",
    "---"
   ]
  },
  {
   "cell_type": "markdown",
   "id": "b2ddff77-bafd-496d-b18b-a60da4877c05",
   "metadata": {},
   "source": [
    "- **Lasso Regression**:\r\n",
    "  - Lasso regression can shrink some coefficients to zero, effectively performing feature selection.\r\n",
    "  - The coefficients indicate which predictors are most important for the model."
   ]
  },
  {
   "cell_type": "code",
   "execution_count": null,
   "id": "b52316a7-6309-40c3-8ba1-d7430a3bf99d",
   "metadata": {},
   "outputs": [],
   "source": [
    "lasso = Lasso(alpha=0.1)"
   ]
  },
  {
   "cell_type": "code",
   "execution_count": null,
   "id": "c54a8589-a60d-4a37-ab9d-2f987e52fd39",
   "metadata": {},
   "outputs": [],
   "source": [
    "lasso.fit(X_train, y_train)"
   ]
  },
  {
   "cell_type": "code",
   "execution_count": null,
   "id": "cbcbd79b-39d8-4b10-8010-ac52e40bf4c5",
   "metadata": {},
   "outputs": [],
   "source": [
    "print(\"Lasso Coefficients:\", lasso.coef_)"
   ]
  },
  {
   "cell_type": "markdown",
   "id": "13153bfc-bec2-49a5-80d3-49bdfad0b8aa",
   "metadata": {},
   "source": [
    "### Summary of Results:\r\n",
    "1. **Linear Regression**: Explains the relationship between `Pclass`, `Age`, and `Fare`. Higher class and older age are associated with higher fares.\r\n",
    "2. **Logistic Regression**: Predicts survival based on `Pclass`, `Age`, and `Sex`. The model's accuracy and classification metrics indicate its performance.\r\n",
    "3. **Multiple Regression (with Interaction)**: Explains survival with interaction effects between `Pclass` and `Sex`.\r\n",
    "4. **Polynomial Regression**: Captures non-linear relationships between `Age` and `Fare`.\r\n",
    "5. **Ridge/Lasso Regression**: Regularized models that reduce overfitting and highlight important predictors."
   ]
  },
  {
   "cell_type": "markdown",
   "id": "8c1e9a1d-5303-4c74-b50b-e06e7afcfcf0",
   "metadata": {},
   "source": [
    "### Conclusions and Discussions:\n",
    "\n",
    "- The analysis of the Titanic dataset shows that survival rates were higher for women, children, and first-class passengers. Men and passengers in lower classes had a much lower chance of survival. These results match historical records of the Titanic tragedy, where women and children were given priority during evacuation.\n",
    "\n",
    "- This study highlights how gender and class played a big role in determining survival. While the analysis gives useful insights, it is limited because it doesn’t include other factors like access to lifeboats or group behaviours. Further research could explore these factors to better understand survival patterns."
   ]
  },
  {
   "cell_type": "code",
   "execution_count": null,
   "id": "2c7bb2db-4146-4152-82ae-6c29e95058bd",
   "metadata": {},
   "outputs": [],
   "source": []
  }
 ],
 "metadata": {
  "kernelspec": {
   "display_name": "Python 3 (ipykernel)",
   "language": "python",
   "name": "python3"
  },
  "language_info": {
   "codemirror_mode": {
    "name": "ipython",
    "version": 3
   },
   "file_extension": ".py",
   "mimetype": "text/x-python",
   "name": "python",
   "nbconvert_exporter": "python",
   "pygments_lexer": "ipython3",
   "version": "3.12.3"
  }
 },
 "nbformat": 4,
 "nbformat_minor": 5
}
